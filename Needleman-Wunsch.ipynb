{
 "cells": [
  {
   "cell_type": "code",
   "execution_count": 12,
   "metadata": {
    "collapsed": true
   },
   "outputs": [],
   "source": [
    "gap_score = -1\n",
    "match_score = +1\n",
    "mismatch_score = -1\n",
    "call_counter = 0"
   ]
  },
  {
   "cell_type": "code",
   "execution_count": 53,
   "metadata": {
    "collapsed": true
   },
   "outputs": [],
   "source": [
    "def align(seq1, seq2):\n",
    "    global call_counter\n",
    "    call_counter += 1\n",
    "    if not seq1:\n",
    "        return \"-\" * len(seq2), seq2, len(seq2) * gap_score\n",
    "    \n",
    "    if not seq2:\n",
    "        return seq1, \"-\" * len(seq1), len(seq1) * gap_score\n",
    "    \n",
    "    aligned1_left, aligned2_left, score_left = align(seq1, seq2[:-1])\n",
    "    aligned1_left_result = aligned1_left + \"-\"\n",
    "    aligned2_left_result = aligned2_left + seq2[-1]\n",
    "    score_left = score_left + gap_score\n",
    "    \n",
    "    result_left = [score_left, aligned1_left_result, aligned2_left_result]\n",
    "    \n",
    "    aligned1_right, aligned2_right, score_right = align(seq1[:-1], seq2)\n",
    "    aligned1_right_result = aligned1_right + seq1[-1]\n",
    "    aligned2_right_result = aligned2_right + \"-\"\n",
    "    score_right = gap_score + score_right\n",
    "    \n",
    "    result_right = [score_right, aligned1_right_result, aligned2_right_result]\n",
    "    \n",
    "    aligned1_middle, aligned2_middle, score_middle = align(seq1[:-1], seq2[:-1])\n",
    "    \n",
    "    aligned1_middle_result = aligned1_middle + seq1[-1]\n",
    "    aligned2_middle_result = aligned2_middle + seq2[-1]\n",
    "    \n",
    "    if seq1[-1] == seq2[-1]:\n",
    "        score_adjustment = match_score\n",
    "    else:\n",
    "        score_adjustment = mismatch_score\n",
    "        \n",
    "    score_middle = score_middle + score_adjustment\n",
    "    result_middle = [score_middle, aligned1_middle_result, aligned2_middle_result]\n",
    "    results = [result_left, result_right, result_middle]\n",
    "    results.sort()\n",
    "    result = results[-1]\n",
    "    \n",
    "    return result[1], result[2], result[0]"
   ]
  },
  {
   "cell_type": "code",
   "execution_count": 54,
   "metadata": {},
   "outputs": [],
   "source": [
    "def align_fast(seq1, seq2, cache = None):\n",
    "    global call_counter\n",
    "    call_counter += 1\n",
    "    if cache == None:\n",
    "        cache = {}\n",
    "        \n",
    "    if not seq1:\n",
    "        return \"-\" * len(seq2), seq2, len(seq2) * gap_score\n",
    "    \n",
    "    if not seq2:\n",
    "        return seq1, \"-\" * len(seq1), len(seq1) * gap_score\n",
    "\n",
    "    left_seqs = seq1, seq2[:-1]\n",
    "    \n",
    "    if left_seqs in cache:\n",
    "        aligned1_left, aligned2_left, score_left = cache[left_seqs]\n",
    "    else:\n",
    "        aligned1_left, aligned2_left, score_left = align_fast(*left_seqs, cache)\n",
    "        cache[left_seqs] = aligned1_left, aligned2_left, score_left\n",
    "    \n",
    "    aligned1_left_result = aligned1_left + \"-\"\n",
    "    aligned2_left_result = aligned2_left + seq2[-1]\n",
    "    score_left = score_left + gap_score\n",
    "    result_left = (score_left, aligned1_left_result, aligned2_left_result)\n",
    "    \n",
    "    right_seqs = seq1[:-1], seq2\n",
    "    \n",
    "    if right_seqs in cache:\n",
    "        aligned1_right, aligned2_right, score_right = cache[right_seqs]\n",
    "    else:\n",
    "        aligned1_right, aligned2_right, score_right = align_fast(*right_seqs, cache)\n",
    "        cache[right_seqs] = aligned1_right, aligned2_right, score_right\n",
    "\n",
    "    aligned1_right_result = aligned1_right + seq1[-1]\n",
    "    aligned2_right_result = aligned2_right + \"-\"\n",
    "    score_right = gap_score + score_right\n",
    "    result_right = (score_right, aligned1_right_result, aligned2_right_result)\n",
    "    \n",
    "    mid_seqs = seq1[:-1], seq2[:-1]\n",
    "    \n",
    "    if mid_seqs in cache:\n",
    "         aligned1_middle, aligned2_middle, score_middle = cache[mid_seqs]\n",
    "    else:\n",
    "        aligned1_middle, aligned2_middle, score_middle = align_fast(*mid_seqs, cache)\n",
    "        cache[mid_seqs] = aligned1_middle, aligned2_middle, score_middle\n",
    "    \n",
    "    aligned1_middle_result = aligned1_middle + seq1[-1]\n",
    "    aligned2_middle_result = aligned2_middle + seq2[-1]\n",
    "    \n",
    "    if seq1[-1] == seq2[-1]:\n",
    "        score_adjustment = match_score\n",
    "    else:\n",
    "        score_adjustment = mismatch_score\n",
    "\n",
    "    score_middle = score_middle + score_adjustment\n",
    "    result_middle = (score_middle, aligned1_middle_result, aligned2_middle_result)\n",
    "        \n",
    "    cache[mid_seqs] = result_middle\n",
    "        \n",
    "    results = [result_left, result_right, result_middle]\n",
    "    results.sort()\n",
    "    result = results[-1]\n",
    "    \n",
    "    return result[1], result[2], result[0]"
   ]
  },
  {
   "cell_type": "code",
   "execution_count": 61,
   "metadata": {},
   "outputs": [
    {
     "data": {
      "text/plain": [
       "('GCATG-CTAA', 'G-ATTACAAA', 2)"
      ]
     },
     "execution_count": 61,
     "metadata": {},
     "output_type": "execute_result"
    }
   ],
   "source": [
    "call_counter = 0\n",
    "align(\"GCATGCTAA\", \"GATTACAAA\")"
   ]
  },
  {
   "cell_type": "code",
   "execution_count": 62,
   "metadata": {},
   "outputs": [
    {
     "data": {
      "text/plain": [
       "2193844"
      ]
     },
     "execution_count": 62,
     "metadata": {},
     "output_type": "execute_result"
    }
   ],
   "source": [
    "call_counter"
   ]
  },
  {
   "cell_type": "code",
   "execution_count": 48,
   "metadata": {
    "collapsed": true
   },
   "outputs": [],
   "source": [
    "gap_score = -1\n",
    "match_score = +1\n",
    "mismatch_score = -1"
   ]
  },
  {
   "cell_type": "code",
   "execution_count": 57,
   "metadata": {},
   "outputs": [
    {
     "data": {
      "text/plain": [
       "('GCATG-CTGCATG-CT', 'G-ATTACAG-ATTACA', 0)"
      ]
     },
     "execution_count": 57,
     "metadata": {},
     "output_type": "execute_result"
    }
   ],
   "source": [
    "call_counter = 0\n",
    "align_fast(\"GCATGCTGCATGCT\", \"GATTACAGATTACA\")"
   ]
  },
  {
   "cell_type": "code",
   "execution_count": 58,
   "metadata": {},
   "outputs": [
    {
     "data": {
      "text/plain": [
       "225"
      ]
     },
     "execution_count": 58,
     "metadata": {},
     "output_type": "execute_result"
    }
   ],
   "source": [
    "call_counter"
   ]
  },
  {
   "cell_type": "code",
   "execution_count": null,
   "metadata": {
    "collapsed": true
   },
   "outputs": [],
   "source": []
  }
 ],
 "metadata": {
  "kernelspec": {
   "display_name": "Python 3 Clinical Applicatoins",
   "language": "python",
   "name": "clinical_applications"
  },
  "language_info": {
   "codemirror_mode": {
    "name": "ipython",
    "version": 3
   },
   "file_extension": ".py",
   "mimetype": "text/x-python",
   "name": "python",
   "nbconvert_exporter": "python",
   "pygments_lexer": "ipython3",
   "version": "3.5.2"
  }
 },
 "nbformat": 4,
 "nbformat_minor": 2
}
