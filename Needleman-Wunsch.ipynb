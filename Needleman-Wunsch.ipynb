{
 "cells": [
  {
   "cell_type": "code",
   "execution_count": 44,
   "metadata": {
    "collapsed": true
   },
   "outputs": [],
   "source": [
    "import matplotlib.pyplot as plt\n",
    "plt.rcParams['figure.figsize'] = [10, 10]"
   ]
  },
  {
   "cell_type": "code",
   "execution_count": 2,
   "metadata": {
    "collapsed": true
   },
   "outputs": [],
   "source": [
    "gap_score = -1\n",
    "match_score = +1\n",
    "mismatch_score = -1\n",
    "call_counter = 0"
   ]
  },
  {
   "cell_type": "code",
   "execution_count": 3,
   "metadata": {
    "collapsed": true
   },
   "outputs": [],
   "source": [
    "def align(seq1, seq2):\n",
    "    global call_counter\n",
    "    call_counter += 1\n",
    "    if not seq1:\n",
    "        return \"-\" * len(seq2), seq2, len(seq2) * gap_score\n",
    "    \n",
    "    if not seq2:\n",
    "        return seq1, \"-\" * len(seq1), len(seq1) * gap_score\n",
    "    \n",
    "    aligned1_left, aligned2_left, score_left = align(seq1, seq2[:-1])\n",
    "    aligned1_left_result = aligned1_left + \"-\"\n",
    "    aligned2_left_result = aligned2_left + seq2[-1]\n",
    "    score_left = score_left + gap_score\n",
    "    \n",
    "    result_left = [score_left, aligned1_left_result, aligned2_left_result]\n",
    "    \n",
    "    aligned1_right, aligned2_right, score_right = align(seq1[:-1], seq2)\n",
    "    aligned1_right_result = aligned1_right + seq1[-1]\n",
    "    aligned2_right_result = aligned2_right + \"-\"\n",
    "    score_right = gap_score + score_right\n",
    "    \n",
    "    result_right = [score_right, aligned1_right_result, aligned2_right_result]\n",
    "    \n",
    "    aligned1_middle, aligned2_middle, score_middle = align(seq1[:-1], seq2[:-1])\n",
    "    \n",
    "    aligned1_middle_result = aligned1_middle + seq1[-1]\n",
    "    aligned2_middle_result = aligned2_middle + seq2[-1]\n",
    "    \n",
    "    if seq1[-1] == seq2[-1]:\n",
    "        score_adjustment = match_score\n",
    "    else:\n",
    "        score_adjustment = mismatch_score\n",
    "        \n",
    "    score_middle = score_middle + score_adjustment\n",
    "    result_middle = [score_middle, aligned1_middle_result, aligned2_middle_result]\n",
    "    results = [result_left, result_right, result_middle]\n",
    "    results.sort()\n",
    "    result = results[-1]\n",
    "    \n",
    "    return result[1], result[2], result[0]"
   ]
  },
  {
   "cell_type": "code",
   "execution_count": 4,
   "metadata": {
    "collapsed": true
   },
   "outputs": [],
   "source": [
    "def align_fast(seq1, seq2, cache = None):\n",
    "    global call_counter\n",
    "    call_counter += 1\n",
    "    if cache == None:\n",
    "        cache = {}\n",
    "        \n",
    "    if not seq1:\n",
    "        return \"-\" * len(seq2), seq2, len(seq2) * gap_score\n",
    "    \n",
    "    if not seq2:\n",
    "        return seq1, \"-\" * len(seq1), len(seq1) * gap_score\n",
    "\n",
    "    left_seqs = seq1, seq2[:-1]\n",
    "    \n",
    "    if left_seqs in cache:\n",
    "        aligned1_left, aligned2_left, score_left = cache[left_seqs]\n",
    "    else:\n",
    "        aligned1_left, aligned2_left, score_left = align_fast(*left_seqs, cache)\n",
    "        cache[left_seqs] = aligned1_left, aligned2_left, score_left\n",
    "    \n",
    "    aligned1_left_result = aligned1_left + \"-\"\n",
    "    aligned2_left_result = aligned2_left + seq2[-1]\n",
    "    score_left = score_left + gap_score\n",
    "    result_left = (score_left, aligned1_left_result, aligned2_left_result)\n",
    "    \n",
    "    right_seqs = seq1[:-1], seq2\n",
    "    \n",
    "    if right_seqs in cache:\n",
    "        aligned1_right, aligned2_right, score_right = cache[right_seqs]\n",
    "    else:\n",
    "        aligned1_right, aligned2_right, score_right = align_fast(*right_seqs, cache)\n",
    "        cache[right_seqs] = aligned1_right, aligned2_right, score_right\n",
    "\n",
    "    aligned1_right_result = aligned1_right + seq1[-1]\n",
    "    aligned2_right_result = aligned2_right + \"-\"\n",
    "    score_right = gap_score + score_right\n",
    "    result_right = (score_right, aligned1_right_result, aligned2_right_result)\n",
    "    \n",
    "    mid_seqs = seq1[:-1], seq2[:-1]\n",
    "    \n",
    "    if mid_seqs in cache:\n",
    "         aligned1_middle, aligned2_middle, score_middle = cache[mid_seqs]\n",
    "    else:\n",
    "        aligned1_middle, aligned2_middle, score_middle = align_fast(*mid_seqs, cache)\n",
    "        cache[mid_seqs] = aligned1_middle, aligned2_middle, score_middle\n",
    "    \n",
    "    aligned1_middle_result = aligned1_middle + seq1[-1]\n",
    "    aligned2_middle_result = aligned2_middle + seq2[-1]\n",
    "    \n",
    "    if seq1[-1] == seq2[-1]:\n",
    "        score_adjustment = match_score\n",
    "    else:\n",
    "        score_adjustment = mismatch_score\n",
    "\n",
    "    score_middle = score_middle + score_adjustment\n",
    "    result_middle = (score_middle, aligned1_middle_result, aligned2_middle_result)\n",
    "        \n",
    "    cache[mid_seqs] = result_middle\n",
    "        \n",
    "    results = [result_left, result_right, result_middle]\n",
    "    results.sort()\n",
    "    result = results[-1]\n",
    "    \n",
    "    return result[1], result[2], result[0]"
   ]
  },
  {
   "cell_type": "code",
   "execution_count": 54,
   "metadata": {},
   "outputs": [
    {
     "data": {
      "text/plain": [
       "('GCATG-CTAA', 'G-ATTACAAA', 2)"
      ]
     },
     "execution_count": 54,
     "metadata": {},
     "output_type": "execute_result"
    }
   ],
   "source": [
    "call_counter = 0\n",
    "align(\"GCATGCTAA\", \"GATTACAAA\")"
   ]
  },
  {
   "cell_type": "code",
   "execution_count": 55,
   "metadata": {},
   "outputs": [
    {
     "data": {
      "text/plain": [
       "2193844"
      ]
     },
     "execution_count": 55,
     "metadata": {},
     "output_type": "execute_result"
    }
   ],
   "source": [
    "call_counter"
   ]
  },
  {
   "cell_type": "code",
   "execution_count": 7,
   "metadata": {
    "collapsed": true
   },
   "outputs": [],
   "source": [
    "gap_score = -1\n",
    "match_score = +1\n",
    "mismatch_score = -1"
   ]
  },
  {
   "cell_type": "code",
   "execution_count": 8,
   "metadata": {},
   "outputs": [
    {
     "data": {
      "text/plain": [
       "('GCATG-CTGCATG-CT', 'G-ATTACAG-ATTACA', 0)"
      ]
     },
     "execution_count": 8,
     "metadata": {},
     "output_type": "execute_result"
    }
   ],
   "source": [
    "call_counter = 0\n",
    "align_fast(\"GCATGCTGCATGCT\", \"GATTACAGATTACA\")"
   ]
  },
  {
   "cell_type": "code",
   "execution_count": 9,
   "metadata": {},
   "outputs": [
    {
     "data": {
      "text/plain": [
       "225"
      ]
     },
     "execution_count": 9,
     "metadata": {},
     "output_type": "execute_result"
    }
   ],
   "source": [
    "call_counter"
   ]
  },
  {
   "cell_type": "code",
   "execution_count": 10,
   "metadata": {
    "collapsed": true
   },
   "outputs": [],
   "source": [
    "def prepare_plot(p):\n",
    "    result1 = []\n",
    "    result2 = []\n",
    "    a = \"GCATGCT\"\n",
    "    b = \"GATTACA\"\n",
    "    for i in range(p):\n",
    "        result1.append(a[i%len(a)])\n",
    "        result2.append(b[i%len(b)])\n",
    "    return \"\".join(result1), \"\".join(result2)"
   ]
  },
  {
   "cell_type": "code",
   "execution_count": 12,
   "metadata": {
    "collapsed": true
   },
   "outputs": [],
   "source": [
    "import time"
   ]
  },
  {
   "cell_type": "code",
   "execution_count": 56,
   "metadata": {},
   "outputs": [
    {
     "name": "stdout",
     "output_type": "stream",
     "text": [
      " \n",
      "G G\n",
      "GC GA\n",
      "GCA GAT\n",
      "GCAT GATT\n",
      "GCATG GATTA\n",
      "GCATGC GATTAC\n",
      "GCATGCT GATTACA\n",
      "GCATGCTG GATTACAG\n",
      "GCATGCTGC GATTACAGA\n",
      "GCATGCTGCA GATTACAGAT\n",
      "GCATGCTGCAT GATTACAGATT\n"
     ]
    },
    {
     "ename": "KeyboardInterrupt",
     "evalue": "",
     "output_type": "error",
     "traceback": [
      "\u001b[0;31m---------------------------------------------------------------------------\u001b[0m",
      "\u001b[0;31mKeyboardInterrupt\u001b[0m                         Traceback (most recent call last)",
      "\u001b[0;32m<ipython-input-56-4c9268fc1132>\u001b[0m in \u001b[0;36m<module>\u001b[0;34m()\u001b[0m\n\u001b[1;32m      7\u001b[0m     \u001b[0mstart\u001b[0m \u001b[0;34m=\u001b[0m \u001b[0mtime\u001b[0m\u001b[0;34m.\u001b[0m\u001b[0mtime\u001b[0m\u001b[0;34m(\u001b[0m\u001b[0;34m)\u001b[0m\u001b[0;34m\u001b[0m\u001b[0m\n\u001b[1;32m      8\u001b[0m     \u001b[0mcall_counter\u001b[0m \u001b[0;34m=\u001b[0m \u001b[0;36m0\u001b[0m\u001b[0;34m\u001b[0m\u001b[0m\n\u001b[0;32m----> 9\u001b[0;31m     \u001b[0malign\u001b[0m\u001b[0;34m(\u001b[0m\u001b[0mseq1\u001b[0m\u001b[0;34m,\u001b[0m \u001b[0mseq2\u001b[0m\u001b[0;34m)\u001b[0m\u001b[0;34m\u001b[0m\u001b[0m\n\u001b[0m\u001b[1;32m     10\u001b[0m     \u001b[0mstop\u001b[0m \u001b[0;34m=\u001b[0m \u001b[0mtime\u001b[0m\u001b[0;34m.\u001b[0m\u001b[0mtime\u001b[0m\u001b[0;34m(\u001b[0m\u001b[0;34m)\u001b[0m\u001b[0;34m\u001b[0m\u001b[0m\n\u001b[1;32m     11\u001b[0m     \u001b[0mtime1\u001b[0m\u001b[0;34m.\u001b[0m\u001b[0mappend\u001b[0m\u001b[0;34m(\u001b[0m\u001b[0mstop\u001b[0m \u001b[0;34m-\u001b[0m \u001b[0mstart\u001b[0m\u001b[0;34m)\u001b[0m\u001b[0;34m\u001b[0m\u001b[0m\n",
      "\u001b[0;32m<ipython-input-3-220e609428a1>\u001b[0m in \u001b[0;36malign\u001b[0;34m(seq1, seq2)\u001b[0m\n\u001b[1;32m     15\u001b[0m     \u001b[0mresult_left\u001b[0m \u001b[0;34m=\u001b[0m \u001b[0;34m[\u001b[0m\u001b[0mscore_left\u001b[0m\u001b[0;34m,\u001b[0m \u001b[0maligned1_left_result\u001b[0m\u001b[0;34m,\u001b[0m \u001b[0maligned2_left_result\u001b[0m\u001b[0;34m]\u001b[0m\u001b[0;34m\u001b[0m\u001b[0m\n\u001b[1;32m     16\u001b[0m \u001b[0;34m\u001b[0m\u001b[0m\n\u001b[0;32m---> 17\u001b[0;31m     \u001b[0maligned1_right\u001b[0m\u001b[0;34m,\u001b[0m \u001b[0maligned2_right\u001b[0m\u001b[0;34m,\u001b[0m \u001b[0mscore_right\u001b[0m \u001b[0;34m=\u001b[0m \u001b[0malign\u001b[0m\u001b[0;34m(\u001b[0m\u001b[0mseq1\u001b[0m\u001b[0;34m[\u001b[0m\u001b[0;34m:\u001b[0m\u001b[0;34m-\u001b[0m\u001b[0;36m1\u001b[0m\u001b[0;34m]\u001b[0m\u001b[0;34m,\u001b[0m \u001b[0mseq2\u001b[0m\u001b[0;34m)\u001b[0m\u001b[0;34m\u001b[0m\u001b[0m\n\u001b[0m\u001b[1;32m     18\u001b[0m     \u001b[0maligned1_right_result\u001b[0m \u001b[0;34m=\u001b[0m \u001b[0maligned1_right\u001b[0m \u001b[0;34m+\u001b[0m \u001b[0mseq1\u001b[0m\u001b[0;34m[\u001b[0m\u001b[0;34m-\u001b[0m\u001b[0;36m1\u001b[0m\u001b[0;34m]\u001b[0m\u001b[0;34m\u001b[0m\u001b[0m\n\u001b[1;32m     19\u001b[0m     \u001b[0maligned2_right_result\u001b[0m \u001b[0;34m=\u001b[0m \u001b[0maligned2_right\u001b[0m \u001b[0;34m+\u001b[0m \u001b[0;34m\"-\"\u001b[0m\u001b[0;34m\u001b[0m\u001b[0m\n",
      "\u001b[0;32m<ipython-input-3-220e609428a1>\u001b[0m in \u001b[0;36malign\u001b[0;34m(seq1, seq2)\u001b[0m\n\u001b[1;32m      8\u001b[0m         \u001b[0;32mreturn\u001b[0m \u001b[0mseq1\u001b[0m\u001b[0;34m,\u001b[0m \u001b[0;34m\"-\"\u001b[0m \u001b[0;34m*\u001b[0m \u001b[0mlen\u001b[0m\u001b[0;34m(\u001b[0m\u001b[0mseq1\u001b[0m\u001b[0;34m)\u001b[0m\u001b[0;34m,\u001b[0m \u001b[0mlen\u001b[0m\u001b[0;34m(\u001b[0m\u001b[0mseq1\u001b[0m\u001b[0;34m)\u001b[0m \u001b[0;34m*\u001b[0m \u001b[0mgap_score\u001b[0m\u001b[0;34m\u001b[0m\u001b[0m\n\u001b[1;32m      9\u001b[0m \u001b[0;34m\u001b[0m\u001b[0m\n\u001b[0;32m---> 10\u001b[0;31m     \u001b[0maligned1_left\u001b[0m\u001b[0;34m,\u001b[0m \u001b[0maligned2_left\u001b[0m\u001b[0;34m,\u001b[0m \u001b[0mscore_left\u001b[0m \u001b[0;34m=\u001b[0m \u001b[0malign\u001b[0m\u001b[0;34m(\u001b[0m\u001b[0mseq1\u001b[0m\u001b[0;34m,\u001b[0m \u001b[0mseq2\u001b[0m\u001b[0;34m[\u001b[0m\u001b[0;34m:\u001b[0m\u001b[0;34m-\u001b[0m\u001b[0;36m1\u001b[0m\u001b[0;34m]\u001b[0m\u001b[0;34m)\u001b[0m\u001b[0;34m\u001b[0m\u001b[0m\n\u001b[0m\u001b[1;32m     11\u001b[0m     \u001b[0maligned1_left_result\u001b[0m \u001b[0;34m=\u001b[0m \u001b[0maligned1_left\u001b[0m \u001b[0;34m+\u001b[0m \u001b[0;34m\"-\"\u001b[0m\u001b[0;34m\u001b[0m\u001b[0m\n\u001b[1;32m     12\u001b[0m     \u001b[0maligned2_left_result\u001b[0m \u001b[0;34m=\u001b[0m \u001b[0maligned2_left\u001b[0m \u001b[0;34m+\u001b[0m \u001b[0mseq2\u001b[0m\u001b[0;34m[\u001b[0m\u001b[0;34m-\u001b[0m\u001b[0;36m1\u001b[0m\u001b[0;34m]\u001b[0m\u001b[0;34m\u001b[0m\u001b[0m\n",
      "\u001b[0;32m<ipython-input-3-220e609428a1>\u001b[0m in \u001b[0;36malign\u001b[0;34m(seq1, seq2)\u001b[0m\n\u001b[1;32m     22\u001b[0m     \u001b[0mresult_right\u001b[0m \u001b[0;34m=\u001b[0m \u001b[0;34m[\u001b[0m\u001b[0mscore_right\u001b[0m\u001b[0;34m,\u001b[0m \u001b[0maligned1_right_result\u001b[0m\u001b[0;34m,\u001b[0m \u001b[0maligned2_right_result\u001b[0m\u001b[0;34m]\u001b[0m\u001b[0;34m\u001b[0m\u001b[0m\n\u001b[1;32m     23\u001b[0m \u001b[0;34m\u001b[0m\u001b[0m\n\u001b[0;32m---> 24\u001b[0;31m     \u001b[0maligned1_middle\u001b[0m\u001b[0;34m,\u001b[0m \u001b[0maligned2_middle\u001b[0m\u001b[0;34m,\u001b[0m \u001b[0mscore_middle\u001b[0m \u001b[0;34m=\u001b[0m \u001b[0malign\u001b[0m\u001b[0;34m(\u001b[0m\u001b[0mseq1\u001b[0m\u001b[0;34m[\u001b[0m\u001b[0;34m:\u001b[0m\u001b[0;34m-\u001b[0m\u001b[0;36m1\u001b[0m\u001b[0;34m]\u001b[0m\u001b[0;34m,\u001b[0m \u001b[0mseq2\u001b[0m\u001b[0;34m[\u001b[0m\u001b[0;34m:\u001b[0m\u001b[0;34m-\u001b[0m\u001b[0;36m1\u001b[0m\u001b[0;34m]\u001b[0m\u001b[0;34m)\u001b[0m\u001b[0;34m\u001b[0m\u001b[0m\n\u001b[0m\u001b[1;32m     25\u001b[0m \u001b[0;34m\u001b[0m\u001b[0m\n\u001b[1;32m     26\u001b[0m     \u001b[0maligned1_middle_result\u001b[0m \u001b[0;34m=\u001b[0m \u001b[0maligned1_middle\u001b[0m \u001b[0;34m+\u001b[0m \u001b[0mseq1\u001b[0m\u001b[0;34m[\u001b[0m\u001b[0;34m-\u001b[0m\u001b[0;36m1\u001b[0m\u001b[0;34m]\u001b[0m\u001b[0;34m\u001b[0m\u001b[0m\n",
      "\u001b[0;32m<ipython-input-3-220e609428a1>\u001b[0m in \u001b[0;36malign\u001b[0;34m(seq1, seq2)\u001b[0m\n\u001b[1;32m      8\u001b[0m         \u001b[0;32mreturn\u001b[0m \u001b[0mseq1\u001b[0m\u001b[0;34m,\u001b[0m \u001b[0;34m\"-\"\u001b[0m \u001b[0;34m*\u001b[0m \u001b[0mlen\u001b[0m\u001b[0;34m(\u001b[0m\u001b[0mseq1\u001b[0m\u001b[0;34m)\u001b[0m\u001b[0;34m,\u001b[0m \u001b[0mlen\u001b[0m\u001b[0;34m(\u001b[0m\u001b[0mseq1\u001b[0m\u001b[0;34m)\u001b[0m \u001b[0;34m*\u001b[0m \u001b[0mgap_score\u001b[0m\u001b[0;34m\u001b[0m\u001b[0m\n\u001b[1;32m      9\u001b[0m \u001b[0;34m\u001b[0m\u001b[0m\n\u001b[0;32m---> 10\u001b[0;31m     \u001b[0maligned1_left\u001b[0m\u001b[0;34m,\u001b[0m \u001b[0maligned2_left\u001b[0m\u001b[0;34m,\u001b[0m \u001b[0mscore_left\u001b[0m \u001b[0;34m=\u001b[0m \u001b[0malign\u001b[0m\u001b[0;34m(\u001b[0m\u001b[0mseq1\u001b[0m\u001b[0;34m,\u001b[0m \u001b[0mseq2\u001b[0m\u001b[0;34m[\u001b[0m\u001b[0;34m:\u001b[0m\u001b[0;34m-\u001b[0m\u001b[0;36m1\u001b[0m\u001b[0;34m]\u001b[0m\u001b[0;34m)\u001b[0m\u001b[0;34m\u001b[0m\u001b[0m\n\u001b[0m\u001b[1;32m     11\u001b[0m     \u001b[0maligned1_left_result\u001b[0m \u001b[0;34m=\u001b[0m \u001b[0maligned1_left\u001b[0m \u001b[0;34m+\u001b[0m \u001b[0;34m\"-\"\u001b[0m\u001b[0;34m\u001b[0m\u001b[0m\n\u001b[1;32m     12\u001b[0m     \u001b[0maligned2_left_result\u001b[0m \u001b[0;34m=\u001b[0m \u001b[0maligned2_left\u001b[0m \u001b[0;34m+\u001b[0m \u001b[0mseq2\u001b[0m\u001b[0;34m[\u001b[0m\u001b[0;34m-\u001b[0m\u001b[0;36m1\u001b[0m\u001b[0;34m]\u001b[0m\u001b[0;34m\u001b[0m\u001b[0m\n",
      "\u001b[0;32m<ipython-input-3-220e609428a1>\u001b[0m in \u001b[0;36malign\u001b[0;34m(seq1, seq2)\u001b[0m\n\u001b[1;32m     22\u001b[0m     \u001b[0mresult_right\u001b[0m \u001b[0;34m=\u001b[0m \u001b[0;34m[\u001b[0m\u001b[0mscore_right\u001b[0m\u001b[0;34m,\u001b[0m \u001b[0maligned1_right_result\u001b[0m\u001b[0;34m,\u001b[0m \u001b[0maligned2_right_result\u001b[0m\u001b[0;34m]\u001b[0m\u001b[0;34m\u001b[0m\u001b[0m\n\u001b[1;32m     23\u001b[0m \u001b[0;34m\u001b[0m\u001b[0m\n\u001b[0;32m---> 24\u001b[0;31m     \u001b[0maligned1_middle\u001b[0m\u001b[0;34m,\u001b[0m \u001b[0maligned2_middle\u001b[0m\u001b[0;34m,\u001b[0m \u001b[0mscore_middle\u001b[0m \u001b[0;34m=\u001b[0m \u001b[0malign\u001b[0m\u001b[0;34m(\u001b[0m\u001b[0mseq1\u001b[0m\u001b[0;34m[\u001b[0m\u001b[0;34m:\u001b[0m\u001b[0;34m-\u001b[0m\u001b[0;36m1\u001b[0m\u001b[0;34m]\u001b[0m\u001b[0;34m,\u001b[0m \u001b[0mseq2\u001b[0m\u001b[0;34m[\u001b[0m\u001b[0;34m:\u001b[0m\u001b[0;34m-\u001b[0m\u001b[0;36m1\u001b[0m\u001b[0;34m]\u001b[0m\u001b[0;34m)\u001b[0m\u001b[0;34m\u001b[0m\u001b[0m\n\u001b[0m\u001b[1;32m     25\u001b[0m \u001b[0;34m\u001b[0m\u001b[0m\n\u001b[1;32m     26\u001b[0m     \u001b[0maligned1_middle_result\u001b[0m \u001b[0;34m=\u001b[0m \u001b[0maligned1_middle\u001b[0m \u001b[0;34m+\u001b[0m \u001b[0mseq1\u001b[0m\u001b[0;34m[\u001b[0m\u001b[0;34m-\u001b[0m\u001b[0;36m1\u001b[0m\u001b[0;34m]\u001b[0m\u001b[0;34m\u001b[0m\u001b[0m\n",
      "\u001b[0;32m<ipython-input-3-220e609428a1>\u001b[0m in \u001b[0;36malign\u001b[0;34m(seq1, seq2)\u001b[0m\n\u001b[1;32m     15\u001b[0m     \u001b[0mresult_left\u001b[0m \u001b[0;34m=\u001b[0m \u001b[0;34m[\u001b[0m\u001b[0mscore_left\u001b[0m\u001b[0;34m,\u001b[0m \u001b[0maligned1_left_result\u001b[0m\u001b[0;34m,\u001b[0m \u001b[0maligned2_left_result\u001b[0m\u001b[0;34m]\u001b[0m\u001b[0;34m\u001b[0m\u001b[0m\n\u001b[1;32m     16\u001b[0m \u001b[0;34m\u001b[0m\u001b[0m\n\u001b[0;32m---> 17\u001b[0;31m     \u001b[0maligned1_right\u001b[0m\u001b[0;34m,\u001b[0m \u001b[0maligned2_right\u001b[0m\u001b[0;34m,\u001b[0m \u001b[0mscore_right\u001b[0m \u001b[0;34m=\u001b[0m \u001b[0malign\u001b[0m\u001b[0;34m(\u001b[0m\u001b[0mseq1\u001b[0m\u001b[0;34m[\u001b[0m\u001b[0;34m:\u001b[0m\u001b[0;34m-\u001b[0m\u001b[0;36m1\u001b[0m\u001b[0;34m]\u001b[0m\u001b[0;34m,\u001b[0m \u001b[0mseq2\u001b[0m\u001b[0;34m)\u001b[0m\u001b[0;34m\u001b[0m\u001b[0m\n\u001b[0m\u001b[1;32m     18\u001b[0m     \u001b[0maligned1_right_result\u001b[0m \u001b[0;34m=\u001b[0m \u001b[0maligned1_right\u001b[0m \u001b[0;34m+\u001b[0m \u001b[0mseq1\u001b[0m\u001b[0;34m[\u001b[0m\u001b[0;34m-\u001b[0m\u001b[0;36m1\u001b[0m\u001b[0;34m]\u001b[0m\u001b[0;34m\u001b[0m\u001b[0m\n\u001b[1;32m     19\u001b[0m     \u001b[0maligned2_right_result\u001b[0m \u001b[0;34m=\u001b[0m \u001b[0maligned2_right\u001b[0m \u001b[0;34m+\u001b[0m \u001b[0;34m\"-\"\u001b[0m\u001b[0;34m\u001b[0m\u001b[0m\n",
      "\u001b[0;32m<ipython-input-3-220e609428a1>\u001b[0m in \u001b[0;36malign\u001b[0;34m(seq1, seq2)\u001b[0m\n\u001b[1;32m      8\u001b[0m         \u001b[0;32mreturn\u001b[0m \u001b[0mseq1\u001b[0m\u001b[0;34m,\u001b[0m \u001b[0;34m\"-\"\u001b[0m \u001b[0;34m*\u001b[0m \u001b[0mlen\u001b[0m\u001b[0;34m(\u001b[0m\u001b[0mseq1\u001b[0m\u001b[0;34m)\u001b[0m\u001b[0;34m,\u001b[0m \u001b[0mlen\u001b[0m\u001b[0;34m(\u001b[0m\u001b[0mseq1\u001b[0m\u001b[0;34m)\u001b[0m \u001b[0;34m*\u001b[0m \u001b[0mgap_score\u001b[0m\u001b[0;34m\u001b[0m\u001b[0m\n\u001b[1;32m      9\u001b[0m \u001b[0;34m\u001b[0m\u001b[0m\n\u001b[0;32m---> 10\u001b[0;31m     \u001b[0maligned1_left\u001b[0m\u001b[0;34m,\u001b[0m \u001b[0maligned2_left\u001b[0m\u001b[0;34m,\u001b[0m \u001b[0mscore_left\u001b[0m \u001b[0;34m=\u001b[0m \u001b[0malign\u001b[0m\u001b[0;34m(\u001b[0m\u001b[0mseq1\u001b[0m\u001b[0;34m,\u001b[0m \u001b[0mseq2\u001b[0m\u001b[0;34m[\u001b[0m\u001b[0;34m:\u001b[0m\u001b[0;34m-\u001b[0m\u001b[0;36m1\u001b[0m\u001b[0;34m]\u001b[0m\u001b[0;34m)\u001b[0m\u001b[0;34m\u001b[0m\u001b[0m\n\u001b[0m\u001b[1;32m     11\u001b[0m     \u001b[0maligned1_left_result\u001b[0m \u001b[0;34m=\u001b[0m \u001b[0maligned1_left\u001b[0m \u001b[0;34m+\u001b[0m \u001b[0;34m\"-\"\u001b[0m\u001b[0;34m\u001b[0m\u001b[0m\n\u001b[1;32m     12\u001b[0m     \u001b[0maligned2_left_result\u001b[0m \u001b[0;34m=\u001b[0m \u001b[0maligned2_left\u001b[0m \u001b[0;34m+\u001b[0m \u001b[0mseq2\u001b[0m\u001b[0;34m[\u001b[0m\u001b[0;34m-\u001b[0m\u001b[0;36m1\u001b[0m\u001b[0;34m]\u001b[0m\u001b[0;34m\u001b[0m\u001b[0m\n",
      "\u001b[0;32m<ipython-input-3-220e609428a1>\u001b[0m in \u001b[0;36malign\u001b[0;34m(seq1, seq2)\u001b[0m\n\u001b[1;32m      8\u001b[0m         \u001b[0;32mreturn\u001b[0m \u001b[0mseq1\u001b[0m\u001b[0;34m,\u001b[0m \u001b[0;34m\"-\"\u001b[0m \u001b[0;34m*\u001b[0m \u001b[0mlen\u001b[0m\u001b[0;34m(\u001b[0m\u001b[0mseq1\u001b[0m\u001b[0;34m)\u001b[0m\u001b[0;34m,\u001b[0m \u001b[0mlen\u001b[0m\u001b[0;34m(\u001b[0m\u001b[0mseq1\u001b[0m\u001b[0;34m)\u001b[0m \u001b[0;34m*\u001b[0m \u001b[0mgap_score\u001b[0m\u001b[0;34m\u001b[0m\u001b[0m\n\u001b[1;32m      9\u001b[0m \u001b[0;34m\u001b[0m\u001b[0m\n\u001b[0;32m---> 10\u001b[0;31m     \u001b[0maligned1_left\u001b[0m\u001b[0;34m,\u001b[0m \u001b[0maligned2_left\u001b[0m\u001b[0;34m,\u001b[0m \u001b[0mscore_left\u001b[0m \u001b[0;34m=\u001b[0m \u001b[0malign\u001b[0m\u001b[0;34m(\u001b[0m\u001b[0mseq1\u001b[0m\u001b[0;34m,\u001b[0m \u001b[0mseq2\u001b[0m\u001b[0;34m[\u001b[0m\u001b[0;34m:\u001b[0m\u001b[0;34m-\u001b[0m\u001b[0;36m1\u001b[0m\u001b[0;34m]\u001b[0m\u001b[0;34m)\u001b[0m\u001b[0;34m\u001b[0m\u001b[0m\n\u001b[0m\u001b[1;32m     11\u001b[0m     \u001b[0maligned1_left_result\u001b[0m \u001b[0;34m=\u001b[0m \u001b[0maligned1_left\u001b[0m \u001b[0;34m+\u001b[0m \u001b[0;34m\"-\"\u001b[0m\u001b[0;34m\u001b[0m\u001b[0m\n\u001b[1;32m     12\u001b[0m     \u001b[0maligned2_left_result\u001b[0m \u001b[0;34m=\u001b[0m \u001b[0maligned2_left\u001b[0m \u001b[0;34m+\u001b[0m \u001b[0mseq2\u001b[0m\u001b[0;34m[\u001b[0m\u001b[0;34m-\u001b[0m\u001b[0;36m1\u001b[0m\u001b[0;34m]\u001b[0m\u001b[0;34m\u001b[0m\u001b[0m\n",
      "\u001b[0;32m<ipython-input-3-220e609428a1>\u001b[0m in \u001b[0;36malign\u001b[0;34m(seq1, seq2)\u001b[0m\n\u001b[1;32m      8\u001b[0m         \u001b[0;32mreturn\u001b[0m \u001b[0mseq1\u001b[0m\u001b[0;34m,\u001b[0m \u001b[0;34m\"-\"\u001b[0m \u001b[0;34m*\u001b[0m \u001b[0mlen\u001b[0m\u001b[0;34m(\u001b[0m\u001b[0mseq1\u001b[0m\u001b[0;34m)\u001b[0m\u001b[0;34m,\u001b[0m \u001b[0mlen\u001b[0m\u001b[0;34m(\u001b[0m\u001b[0mseq1\u001b[0m\u001b[0;34m)\u001b[0m \u001b[0;34m*\u001b[0m \u001b[0mgap_score\u001b[0m\u001b[0;34m\u001b[0m\u001b[0m\n\u001b[1;32m      9\u001b[0m \u001b[0;34m\u001b[0m\u001b[0m\n\u001b[0;32m---> 10\u001b[0;31m     \u001b[0maligned1_left\u001b[0m\u001b[0;34m,\u001b[0m \u001b[0maligned2_left\u001b[0m\u001b[0;34m,\u001b[0m \u001b[0mscore_left\u001b[0m \u001b[0;34m=\u001b[0m \u001b[0malign\u001b[0m\u001b[0;34m(\u001b[0m\u001b[0mseq1\u001b[0m\u001b[0;34m,\u001b[0m \u001b[0mseq2\u001b[0m\u001b[0;34m[\u001b[0m\u001b[0;34m:\u001b[0m\u001b[0;34m-\u001b[0m\u001b[0;36m1\u001b[0m\u001b[0;34m]\u001b[0m\u001b[0;34m)\u001b[0m\u001b[0;34m\u001b[0m\u001b[0m\n\u001b[0m\u001b[1;32m     11\u001b[0m     \u001b[0maligned1_left_result\u001b[0m \u001b[0;34m=\u001b[0m \u001b[0maligned1_left\u001b[0m \u001b[0;34m+\u001b[0m \u001b[0;34m\"-\"\u001b[0m\u001b[0;34m\u001b[0m\u001b[0m\n\u001b[1;32m     12\u001b[0m     \u001b[0maligned2_left_result\u001b[0m \u001b[0;34m=\u001b[0m \u001b[0maligned2_left\u001b[0m \u001b[0;34m+\u001b[0m \u001b[0mseq2\u001b[0m\u001b[0;34m[\u001b[0m\u001b[0;34m-\u001b[0m\u001b[0;36m1\u001b[0m\u001b[0;34m]\u001b[0m\u001b[0;34m\u001b[0m\u001b[0m\n",
      "\u001b[0;32m<ipython-input-3-220e609428a1>\u001b[0m in \u001b[0;36malign\u001b[0;34m(seq1, seq2)\u001b[0m\n\u001b[1;32m     15\u001b[0m     \u001b[0mresult_left\u001b[0m \u001b[0;34m=\u001b[0m \u001b[0;34m[\u001b[0m\u001b[0mscore_left\u001b[0m\u001b[0;34m,\u001b[0m \u001b[0maligned1_left_result\u001b[0m\u001b[0;34m,\u001b[0m \u001b[0maligned2_left_result\u001b[0m\u001b[0;34m]\u001b[0m\u001b[0;34m\u001b[0m\u001b[0m\n\u001b[1;32m     16\u001b[0m \u001b[0;34m\u001b[0m\u001b[0m\n\u001b[0;32m---> 17\u001b[0;31m     \u001b[0maligned1_right\u001b[0m\u001b[0;34m,\u001b[0m \u001b[0maligned2_right\u001b[0m\u001b[0;34m,\u001b[0m \u001b[0mscore_right\u001b[0m \u001b[0;34m=\u001b[0m \u001b[0malign\u001b[0m\u001b[0;34m(\u001b[0m\u001b[0mseq1\u001b[0m\u001b[0;34m[\u001b[0m\u001b[0;34m:\u001b[0m\u001b[0;34m-\u001b[0m\u001b[0;36m1\u001b[0m\u001b[0;34m]\u001b[0m\u001b[0;34m,\u001b[0m \u001b[0mseq2\u001b[0m\u001b[0;34m)\u001b[0m\u001b[0;34m\u001b[0m\u001b[0m\n\u001b[0m\u001b[1;32m     18\u001b[0m     \u001b[0maligned1_right_result\u001b[0m \u001b[0;34m=\u001b[0m \u001b[0maligned1_right\u001b[0m \u001b[0;34m+\u001b[0m \u001b[0mseq1\u001b[0m\u001b[0;34m[\u001b[0m\u001b[0;34m-\u001b[0m\u001b[0;36m1\u001b[0m\u001b[0;34m]\u001b[0m\u001b[0;34m\u001b[0m\u001b[0m\n\u001b[1;32m     19\u001b[0m     \u001b[0maligned2_right_result\u001b[0m \u001b[0;34m=\u001b[0m \u001b[0maligned2_right\u001b[0m \u001b[0;34m+\u001b[0m \u001b[0;34m\"-\"\u001b[0m\u001b[0;34m\u001b[0m\u001b[0m\n",
      "\u001b[0;32m<ipython-input-3-220e609428a1>\u001b[0m in \u001b[0;36malign\u001b[0;34m(seq1, seq2)\u001b[0m\n\u001b[1;32m     15\u001b[0m     \u001b[0mresult_left\u001b[0m \u001b[0;34m=\u001b[0m \u001b[0;34m[\u001b[0m\u001b[0mscore_left\u001b[0m\u001b[0;34m,\u001b[0m \u001b[0maligned1_left_result\u001b[0m\u001b[0;34m,\u001b[0m \u001b[0maligned2_left_result\u001b[0m\u001b[0;34m]\u001b[0m\u001b[0;34m\u001b[0m\u001b[0m\n\u001b[1;32m     16\u001b[0m \u001b[0;34m\u001b[0m\u001b[0m\n\u001b[0;32m---> 17\u001b[0;31m     \u001b[0maligned1_right\u001b[0m\u001b[0;34m,\u001b[0m \u001b[0maligned2_right\u001b[0m\u001b[0;34m,\u001b[0m \u001b[0mscore_right\u001b[0m \u001b[0;34m=\u001b[0m \u001b[0malign\u001b[0m\u001b[0;34m(\u001b[0m\u001b[0mseq1\u001b[0m\u001b[0;34m[\u001b[0m\u001b[0;34m:\u001b[0m\u001b[0;34m-\u001b[0m\u001b[0;36m1\u001b[0m\u001b[0;34m]\u001b[0m\u001b[0;34m,\u001b[0m \u001b[0mseq2\u001b[0m\u001b[0;34m)\u001b[0m\u001b[0;34m\u001b[0m\u001b[0m\n\u001b[0m\u001b[1;32m     18\u001b[0m     \u001b[0maligned1_right_result\u001b[0m \u001b[0;34m=\u001b[0m \u001b[0maligned1_right\u001b[0m \u001b[0;34m+\u001b[0m \u001b[0mseq1\u001b[0m\u001b[0;34m[\u001b[0m\u001b[0;34m-\u001b[0m\u001b[0;36m1\u001b[0m\u001b[0;34m]\u001b[0m\u001b[0;34m\u001b[0m\u001b[0m\n\u001b[1;32m     19\u001b[0m     \u001b[0maligned2_right_result\u001b[0m \u001b[0;34m=\u001b[0m \u001b[0maligned2_right\u001b[0m \u001b[0;34m+\u001b[0m \u001b[0;34m\"-\"\u001b[0m\u001b[0;34m\u001b[0m\u001b[0m\n",
      "\u001b[0;32m<ipython-input-3-220e609428a1>\u001b[0m in \u001b[0;36malign\u001b[0;34m(seq1, seq2)\u001b[0m\n\u001b[1;32m     15\u001b[0m     \u001b[0mresult_left\u001b[0m \u001b[0;34m=\u001b[0m \u001b[0;34m[\u001b[0m\u001b[0mscore_left\u001b[0m\u001b[0;34m,\u001b[0m \u001b[0maligned1_left_result\u001b[0m\u001b[0;34m,\u001b[0m \u001b[0maligned2_left_result\u001b[0m\u001b[0;34m]\u001b[0m\u001b[0;34m\u001b[0m\u001b[0m\n\u001b[1;32m     16\u001b[0m \u001b[0;34m\u001b[0m\u001b[0m\n\u001b[0;32m---> 17\u001b[0;31m     \u001b[0maligned1_right\u001b[0m\u001b[0;34m,\u001b[0m \u001b[0maligned2_right\u001b[0m\u001b[0;34m,\u001b[0m \u001b[0mscore_right\u001b[0m \u001b[0;34m=\u001b[0m \u001b[0malign\u001b[0m\u001b[0;34m(\u001b[0m\u001b[0mseq1\u001b[0m\u001b[0;34m[\u001b[0m\u001b[0;34m:\u001b[0m\u001b[0;34m-\u001b[0m\u001b[0;36m1\u001b[0m\u001b[0;34m]\u001b[0m\u001b[0;34m,\u001b[0m \u001b[0mseq2\u001b[0m\u001b[0;34m)\u001b[0m\u001b[0;34m\u001b[0m\u001b[0m\n\u001b[0m\u001b[1;32m     18\u001b[0m     \u001b[0maligned1_right_result\u001b[0m \u001b[0;34m=\u001b[0m \u001b[0maligned1_right\u001b[0m \u001b[0;34m+\u001b[0m \u001b[0mseq1\u001b[0m\u001b[0;34m[\u001b[0m\u001b[0;34m-\u001b[0m\u001b[0;36m1\u001b[0m\u001b[0;34m]\u001b[0m\u001b[0;34m\u001b[0m\u001b[0m\n\u001b[1;32m     19\u001b[0m     \u001b[0maligned2_right_result\u001b[0m \u001b[0;34m=\u001b[0m \u001b[0maligned2_right\u001b[0m \u001b[0;34m+\u001b[0m \u001b[0;34m\"-\"\u001b[0m\u001b[0;34m\u001b[0m\u001b[0m\n",
      "\u001b[0;32m<ipython-input-3-220e609428a1>\u001b[0m in \u001b[0;36malign\u001b[0;34m(seq1, seq2)\u001b[0m\n\u001b[1;32m     15\u001b[0m     \u001b[0mresult_left\u001b[0m \u001b[0;34m=\u001b[0m \u001b[0;34m[\u001b[0m\u001b[0mscore_left\u001b[0m\u001b[0;34m,\u001b[0m \u001b[0maligned1_left_result\u001b[0m\u001b[0;34m,\u001b[0m \u001b[0maligned2_left_result\u001b[0m\u001b[0;34m]\u001b[0m\u001b[0;34m\u001b[0m\u001b[0m\n\u001b[1;32m     16\u001b[0m \u001b[0;34m\u001b[0m\u001b[0m\n\u001b[0;32m---> 17\u001b[0;31m     \u001b[0maligned1_right\u001b[0m\u001b[0;34m,\u001b[0m \u001b[0maligned2_right\u001b[0m\u001b[0;34m,\u001b[0m \u001b[0mscore_right\u001b[0m \u001b[0;34m=\u001b[0m \u001b[0malign\u001b[0m\u001b[0;34m(\u001b[0m\u001b[0mseq1\u001b[0m\u001b[0;34m[\u001b[0m\u001b[0;34m:\u001b[0m\u001b[0;34m-\u001b[0m\u001b[0;36m1\u001b[0m\u001b[0;34m]\u001b[0m\u001b[0;34m,\u001b[0m \u001b[0mseq2\u001b[0m\u001b[0;34m)\u001b[0m\u001b[0;34m\u001b[0m\u001b[0m\n\u001b[0m\u001b[1;32m     18\u001b[0m     \u001b[0maligned1_right_result\u001b[0m \u001b[0;34m=\u001b[0m \u001b[0maligned1_right\u001b[0m \u001b[0;34m+\u001b[0m \u001b[0mseq1\u001b[0m\u001b[0;34m[\u001b[0m\u001b[0;34m-\u001b[0m\u001b[0;36m1\u001b[0m\u001b[0;34m]\u001b[0m\u001b[0;34m\u001b[0m\u001b[0m\n\u001b[1;32m     19\u001b[0m     \u001b[0maligned2_right_result\u001b[0m \u001b[0;34m=\u001b[0m \u001b[0maligned2_right\u001b[0m \u001b[0;34m+\u001b[0m \u001b[0;34m\"-\"\u001b[0m\u001b[0;34m\u001b[0m\u001b[0m\n",
      "\u001b[0;32m<ipython-input-3-220e609428a1>\u001b[0m in \u001b[0;36malign\u001b[0;34m(seq1, seq2)\u001b[0m\n\u001b[1;32m      8\u001b[0m         \u001b[0;32mreturn\u001b[0m \u001b[0mseq1\u001b[0m\u001b[0;34m,\u001b[0m \u001b[0;34m\"-\"\u001b[0m \u001b[0;34m*\u001b[0m \u001b[0mlen\u001b[0m\u001b[0;34m(\u001b[0m\u001b[0mseq1\u001b[0m\u001b[0;34m)\u001b[0m\u001b[0;34m,\u001b[0m \u001b[0mlen\u001b[0m\u001b[0;34m(\u001b[0m\u001b[0mseq1\u001b[0m\u001b[0;34m)\u001b[0m \u001b[0;34m*\u001b[0m \u001b[0mgap_score\u001b[0m\u001b[0;34m\u001b[0m\u001b[0m\n\u001b[1;32m      9\u001b[0m \u001b[0;34m\u001b[0m\u001b[0m\n\u001b[0;32m---> 10\u001b[0;31m     \u001b[0maligned1_left\u001b[0m\u001b[0;34m,\u001b[0m \u001b[0maligned2_left\u001b[0m\u001b[0;34m,\u001b[0m \u001b[0mscore_left\u001b[0m \u001b[0;34m=\u001b[0m \u001b[0malign\u001b[0m\u001b[0;34m(\u001b[0m\u001b[0mseq1\u001b[0m\u001b[0;34m,\u001b[0m \u001b[0mseq2\u001b[0m\u001b[0;34m[\u001b[0m\u001b[0;34m:\u001b[0m\u001b[0;34m-\u001b[0m\u001b[0;36m1\u001b[0m\u001b[0;34m]\u001b[0m\u001b[0;34m)\u001b[0m\u001b[0;34m\u001b[0m\u001b[0m\n\u001b[0m\u001b[1;32m     11\u001b[0m     \u001b[0maligned1_left_result\u001b[0m \u001b[0;34m=\u001b[0m \u001b[0maligned1_left\u001b[0m \u001b[0;34m+\u001b[0m \u001b[0;34m\"-\"\u001b[0m\u001b[0;34m\u001b[0m\u001b[0m\n\u001b[1;32m     12\u001b[0m     \u001b[0maligned2_left_result\u001b[0m \u001b[0;34m=\u001b[0m \u001b[0maligned2_left\u001b[0m \u001b[0;34m+\u001b[0m \u001b[0mseq2\u001b[0m\u001b[0;34m[\u001b[0m\u001b[0;34m-\u001b[0m\u001b[0;36m1\u001b[0m\u001b[0;34m]\u001b[0m\u001b[0;34m\u001b[0m\u001b[0m\n",
      "\u001b[0;32m<ipython-input-3-220e609428a1>\u001b[0m in \u001b[0;36malign\u001b[0;34m(seq1, seq2)\u001b[0m\n\u001b[1;32m      8\u001b[0m         \u001b[0;32mreturn\u001b[0m \u001b[0mseq1\u001b[0m\u001b[0;34m,\u001b[0m \u001b[0;34m\"-\"\u001b[0m \u001b[0;34m*\u001b[0m \u001b[0mlen\u001b[0m\u001b[0;34m(\u001b[0m\u001b[0mseq1\u001b[0m\u001b[0;34m)\u001b[0m\u001b[0;34m,\u001b[0m \u001b[0mlen\u001b[0m\u001b[0;34m(\u001b[0m\u001b[0mseq1\u001b[0m\u001b[0;34m)\u001b[0m \u001b[0;34m*\u001b[0m \u001b[0mgap_score\u001b[0m\u001b[0;34m\u001b[0m\u001b[0m\n\u001b[1;32m      9\u001b[0m \u001b[0;34m\u001b[0m\u001b[0m\n\u001b[0;32m---> 10\u001b[0;31m     \u001b[0maligned1_left\u001b[0m\u001b[0;34m,\u001b[0m \u001b[0maligned2_left\u001b[0m\u001b[0;34m,\u001b[0m \u001b[0mscore_left\u001b[0m \u001b[0;34m=\u001b[0m \u001b[0malign\u001b[0m\u001b[0;34m(\u001b[0m\u001b[0mseq1\u001b[0m\u001b[0;34m,\u001b[0m \u001b[0mseq2\u001b[0m\u001b[0;34m[\u001b[0m\u001b[0;34m:\u001b[0m\u001b[0;34m-\u001b[0m\u001b[0;36m1\u001b[0m\u001b[0;34m]\u001b[0m\u001b[0;34m)\u001b[0m\u001b[0;34m\u001b[0m\u001b[0m\n\u001b[0m\u001b[1;32m     11\u001b[0m     \u001b[0maligned1_left_result\u001b[0m \u001b[0;34m=\u001b[0m \u001b[0maligned1_left\u001b[0m \u001b[0;34m+\u001b[0m \u001b[0;34m\"-\"\u001b[0m\u001b[0;34m\u001b[0m\u001b[0m\n\u001b[1;32m     12\u001b[0m     \u001b[0maligned2_left_result\u001b[0m \u001b[0;34m=\u001b[0m \u001b[0maligned2_left\u001b[0m \u001b[0;34m+\u001b[0m \u001b[0mseq2\u001b[0m\u001b[0;34m[\u001b[0m\u001b[0;34m-\u001b[0m\u001b[0;36m1\u001b[0m\u001b[0;34m]\u001b[0m\u001b[0;34m\u001b[0m\u001b[0m\n",
      "\u001b[0;32m<ipython-input-3-220e609428a1>\u001b[0m in \u001b[0;36malign\u001b[0;34m(seq1, seq2)\u001b[0m\n\u001b[1;32m      8\u001b[0m         \u001b[0;32mreturn\u001b[0m \u001b[0mseq1\u001b[0m\u001b[0;34m,\u001b[0m \u001b[0;34m\"-\"\u001b[0m \u001b[0;34m*\u001b[0m \u001b[0mlen\u001b[0m\u001b[0;34m(\u001b[0m\u001b[0mseq1\u001b[0m\u001b[0;34m)\u001b[0m\u001b[0;34m,\u001b[0m \u001b[0mlen\u001b[0m\u001b[0;34m(\u001b[0m\u001b[0mseq1\u001b[0m\u001b[0;34m)\u001b[0m \u001b[0;34m*\u001b[0m \u001b[0mgap_score\u001b[0m\u001b[0;34m\u001b[0m\u001b[0m\n\u001b[1;32m      9\u001b[0m \u001b[0;34m\u001b[0m\u001b[0m\n\u001b[0;32m---> 10\u001b[0;31m     \u001b[0maligned1_left\u001b[0m\u001b[0;34m,\u001b[0m \u001b[0maligned2_left\u001b[0m\u001b[0;34m,\u001b[0m \u001b[0mscore_left\u001b[0m \u001b[0;34m=\u001b[0m \u001b[0malign\u001b[0m\u001b[0;34m(\u001b[0m\u001b[0mseq1\u001b[0m\u001b[0;34m,\u001b[0m \u001b[0mseq2\u001b[0m\u001b[0;34m[\u001b[0m\u001b[0;34m:\u001b[0m\u001b[0;34m-\u001b[0m\u001b[0;36m1\u001b[0m\u001b[0;34m]\u001b[0m\u001b[0;34m)\u001b[0m\u001b[0;34m\u001b[0m\u001b[0m\n\u001b[0m\u001b[1;32m     11\u001b[0m     \u001b[0maligned1_left_result\u001b[0m \u001b[0;34m=\u001b[0m \u001b[0maligned1_left\u001b[0m \u001b[0;34m+\u001b[0m \u001b[0;34m\"-\"\u001b[0m\u001b[0;34m\u001b[0m\u001b[0m\n\u001b[1;32m     12\u001b[0m     \u001b[0maligned2_left_result\u001b[0m \u001b[0;34m=\u001b[0m \u001b[0maligned2_left\u001b[0m \u001b[0;34m+\u001b[0m \u001b[0mseq2\u001b[0m\u001b[0;34m[\u001b[0m\u001b[0;34m-\u001b[0m\u001b[0;36m1\u001b[0m\u001b[0;34m]\u001b[0m\u001b[0;34m\u001b[0m\u001b[0m\n",
      "\u001b[0;32m<ipython-input-3-220e609428a1>\u001b[0m in \u001b[0;36malign\u001b[0;34m(seq1, seq2)\u001b[0m\n\u001b[1;32m     15\u001b[0m     \u001b[0mresult_left\u001b[0m \u001b[0;34m=\u001b[0m \u001b[0;34m[\u001b[0m\u001b[0mscore_left\u001b[0m\u001b[0;34m,\u001b[0m \u001b[0maligned1_left_result\u001b[0m\u001b[0;34m,\u001b[0m \u001b[0maligned2_left_result\u001b[0m\u001b[0;34m]\u001b[0m\u001b[0;34m\u001b[0m\u001b[0m\n\u001b[1;32m     16\u001b[0m \u001b[0;34m\u001b[0m\u001b[0m\n\u001b[0;32m---> 17\u001b[0;31m     \u001b[0maligned1_right\u001b[0m\u001b[0;34m,\u001b[0m \u001b[0maligned2_right\u001b[0m\u001b[0;34m,\u001b[0m \u001b[0mscore_right\u001b[0m \u001b[0;34m=\u001b[0m \u001b[0malign\u001b[0m\u001b[0;34m(\u001b[0m\u001b[0mseq1\u001b[0m\u001b[0;34m[\u001b[0m\u001b[0;34m:\u001b[0m\u001b[0;34m-\u001b[0m\u001b[0;36m1\u001b[0m\u001b[0;34m]\u001b[0m\u001b[0;34m,\u001b[0m \u001b[0mseq2\u001b[0m\u001b[0;34m)\u001b[0m\u001b[0;34m\u001b[0m\u001b[0m\n\u001b[0m\u001b[1;32m     18\u001b[0m     \u001b[0maligned1_right_result\u001b[0m \u001b[0;34m=\u001b[0m \u001b[0maligned1_right\u001b[0m \u001b[0;34m+\u001b[0m \u001b[0mseq1\u001b[0m\u001b[0;34m[\u001b[0m\u001b[0;34m-\u001b[0m\u001b[0;36m1\u001b[0m\u001b[0;34m]\u001b[0m\u001b[0;34m\u001b[0m\u001b[0m\n\u001b[1;32m     19\u001b[0m     \u001b[0maligned2_right_result\u001b[0m \u001b[0;34m=\u001b[0m \u001b[0maligned2_right\u001b[0m \u001b[0;34m+\u001b[0m \u001b[0;34m\"-\"\u001b[0m\u001b[0;34m\u001b[0m\u001b[0m\n",
      "\u001b[0;32m<ipython-input-3-220e609428a1>\u001b[0m in \u001b[0;36malign\u001b[0;34m(seq1, seq2)\u001b[0m\n\u001b[0;32m----> 1\u001b[0;31m \u001b[0;32mdef\u001b[0m \u001b[0malign\u001b[0m\u001b[0;34m(\u001b[0m\u001b[0mseq1\u001b[0m\u001b[0;34m,\u001b[0m \u001b[0mseq2\u001b[0m\u001b[0;34m)\u001b[0m\u001b[0;34m:\u001b[0m\u001b[0;34m\u001b[0m\u001b[0m\n\u001b[0m\u001b[1;32m      2\u001b[0m     \u001b[0;32mglobal\u001b[0m \u001b[0mcall_counter\u001b[0m\u001b[0;34m\u001b[0m\u001b[0m\n\u001b[1;32m      3\u001b[0m     \u001b[0mcall_counter\u001b[0m \u001b[0;34m+=\u001b[0m \u001b[0;36m1\u001b[0m\u001b[0;34m\u001b[0m\u001b[0m\n\u001b[1;32m      4\u001b[0m     \u001b[0;32mif\u001b[0m \u001b[0;32mnot\u001b[0m \u001b[0mseq1\u001b[0m\u001b[0;34m:\u001b[0m\u001b[0;34m\u001b[0m\u001b[0m\n\u001b[1;32m      5\u001b[0m         \u001b[0;32mreturn\u001b[0m \u001b[0;34m\"-\"\u001b[0m \u001b[0;34m*\u001b[0m \u001b[0mlen\u001b[0m\u001b[0;34m(\u001b[0m\u001b[0mseq2\u001b[0m\u001b[0;34m)\u001b[0m\u001b[0;34m,\u001b[0m \u001b[0mseq2\u001b[0m\u001b[0;34m,\u001b[0m \u001b[0mlen\u001b[0m\u001b[0;34m(\u001b[0m\u001b[0mseq2\u001b[0m\u001b[0;34m)\u001b[0m \u001b[0;34m*\u001b[0m \u001b[0mgap_score\u001b[0m\u001b[0;34m\u001b[0m\u001b[0m\n",
      "\u001b[0;31mKeyboardInterrupt\u001b[0m: "
     ]
    }
   ],
   "source": [
    "time1 = []\n",
    "call_count1 = []\n",
    "import gc\n",
    "for seq1, seq2 in [prepare_plot(i) for i in range(12)]:\n",
    "    print(seq1, seq2)\n",
    "    gc.collect()\n",
    "    start = time.time()\n",
    "    call_counter = 0\n",
    "    align(seq1, seq2)\n",
    "    stop = time.time()\n",
    "    time1.append(stop - start)\n",
    "    call_count1.append(call_counter)"
   ]
  },
  {
   "cell_type": "code",
   "execution_count": 39,
   "metadata": {},
   "outputs": [
    {
     "data": {
      "text/plain": [
       "Text(0,0.5,'seconds')"
      ]
     },
     "execution_count": 39,
     "metadata": {},
     "output_type": "execute_result"
    },
    {
     "data": {
      "image/png": "[encoded data removed]",
      "text/plain": [
       "<Figure size 720x720 with 1 Axes>"
      ]
     },
     "metadata": {},
     "output_type": "display_data"
    }
   ],
   "source": [
    "plt.plot(time1)\n",
    "plt.xlabel(\"length of sequence (bs)\")\n",
    "plt.ylabel(\"seconds\")"
   ]
  },
  {
   "cell_type": "code",
   "execution_count": 43,
   "metadata": {},
   "outputs": [
    {
     "data": {
      "text/plain": [
       "[1, 4, 19, 94, 481, 2524, 13483, 72958, 398593, 2193844, 12146179, 67570078]"
      ]
     },
     "execution_count": 43,
     "metadata": {},
     "output_type": "execute_result"
    }
   ],
   "source": [
    "call_count1"
   ]
  },
  {
   "cell_type": "code",
   "execution_count": 74,
   "metadata": {},
   "outputs": [
    {
     "name": "stdout",
     "output_type": "stream",
     "text": [
      " \n",
      "G G\n",
      "GC GA\n",
      "GCA GAT\n",
      "GCAT GATT\n",
      "GCATG GATTA\n",
      "GCATGC GATTAC\n",
      "GCATGCT GATTACA\n",
      "GCATGCTG GATTACAG\n",
      "GCATGCTGC GATTACAGA\n",
      "GCATGCTGCA GATTACAGAT\n",
      "GCATGCTGCAT GATTACAGATT\n",
      "GCATGCTGCATG GATTACAGATTA\n",
      "GCATGCTGCATGC GATTACAGATTAC\n",
      "GCATGCTGCATGCT GATTACAGATTACA\n",
      "GCATGCTGCATGCTG GATTACAGATTACAG\n",
      "GCATGCTGCATGCTGC GATTACAGATTACAGA\n",
      "GCATGCTGCATGCTGCA GATTACAGATTACAGAT\n",
      "GCATGCTGCATGCTGCAT GATTACAGATTACAGATT\n",
      "GCATGCTGCATGCTGCATG GATTACAGATTACAGATTA\n",
      "GCATGCTGCATGCTGCATGC GATTACAGATTACAGATTAC\n",
      "GCATGCTGCATGCTGCATGCT GATTACAGATTACAGATTACA\n",
      "GCATGCTGCATGCTGCATGCTG GATTACAGATTACAGATTACAG\n",
      "GCATGCTGCATGCTGCATGCTGC GATTACAGATTACAGATTACAGA\n",
      "GCATGCTGCATGCTGCATGCTGCA GATTACAGATTACAGATTACAGAT\n",
      "GCATGCTGCATGCTGCATGCTGCAT GATTACAGATTACAGATTACAGATT\n",
      "GCATGCTGCATGCTGCATGCTGCATG GATTACAGATTACAGATTACAGATTA\n",
      "GCATGCTGCATGCTGCATGCTGCATGC GATTACAGATTACAGATTACAGATTAC\n",
      "GCATGCTGCATGCTGCATGCTGCATGCT GATTACAGATTACAGATTACAGATTACA\n",
      "GCATGCTGCATGCTGCATGCTGCATGCTG GATTACAGATTACAGATTACAGATTACAG\n",
      "GCATGCTGCATGCTGCATGCTGCATGCTGC GATTACAGATTACAGATTACAGATTACAGA\n",
      "GCATGCTGCATGCTGCATGCTGCATGCTGCA GATTACAGATTACAGATTACAGATTACAGAT\n",
      "GCATGCTGCATGCTGCATGCTGCATGCTGCAT GATTACAGATTACAGATTACAGATTACAGATT\n",
      "GCATGCTGCATGCTGCATGCTGCATGCTGCATG GATTACAGATTACAGATTACAGATTACAGATTA\n",
      "GCATGCTGCATGCTGCATGCTGCATGCTGCATGC GATTACAGATTACAGATTACAGATTACAGATTAC\n",
      "GCATGCTGCATGCTGCATGCTGCATGCTGCATGCT GATTACAGATTACAGATTACAGATTACAGATTACA\n",
      "GCATGCTGCATGCTGCATGCTGCATGCTGCATGCTG GATTACAGATTACAGATTACAGATTACAGATTACAG\n",
      "GCATGCTGCATGCTGCATGCTGCATGCTGCATGCTGC GATTACAGATTACAGATTACAGATTACAGATTACAGA\n",
      "GCATGCTGCATGCTGCATGCTGCATGCTGCATGCTGCA GATTACAGATTACAGATTACAGATTACAGATTACAGAT\n",
      "GCATGCTGCATGCTGCATGCTGCATGCTGCATGCTGCAT GATTACAGATTACAGATTACAGATTACAGATTACAGATT\n",
      "GCATGCTGCATGCTGCATGCTGCATGCTGCATGCTGCATG GATTACAGATTACAGATTACAGATTACAGATTACAGATTA\n",
      "GCATGCTGCATGCTGCATGCTGCATGCTGCATGCTGCATGC GATTACAGATTACAGATTACAGATTACAGATTACAGATTAC\n",
      "GCATGCTGCATGCTGCATGCTGCATGCTGCATGCTGCATGCT GATTACAGATTACAGATTACAGATTACAGATTACAGATTACA\n",
      "GCATGCTGCATGCTGCATGCTGCATGCTGCATGCTGCATGCTG GATTACAGATTACAGATTACAGATTACAGATTACAGATTACAG\n",
      "GCATGCTGCATGCTGCATGCTGCATGCTGCATGCTGCATGCTGC GATTACAGATTACAGATTACAGATTACAGATTACAGATTACAGA\n",
      "GCATGCTGCATGCTGCATGCTGCATGCTGCATGCTGCATGCTGCA GATTACAGATTACAGATTACAGATTACAGATTACAGATTACAGAT\n",
      "GCATGCTGCATGCTGCATGCTGCATGCTGCATGCTGCATGCTGCAT GATTACAGATTACAGATTACAGATTACAGATTACAGATTACAGATT\n",
      "GCATGCTGCATGCTGCATGCTGCATGCTGCATGCTGCATGCTGCATG GATTACAGATTACAGATTACAGATTACAGATTACAGATTACAGATTA\n",
      "GCATGCTGCATGCTGCATGCTGCATGCTGCATGCTGCATGCTGCATGC GATTACAGATTACAGATTACAGATTACAGATTACAGATTACAGATTAC\n",
      "GCATGCTGCATGCTGCATGCTGCATGCTGCATGCTGCATGCTGCATGCT GATTACAGATTACAGATTACAGATTACAGATTACAGATTACAGATTACA\n",
      "GCATGCTGCATGCTGCATGCTGCATGCTGCATGCTGCATGCTGCATGCTG GATTACAGATTACAGATTACAGATTACAGATTACAGATTACAGATTACAG\n",
      "GCATGCTGCATGCTGCATGCTGCATGCTGCATGCTGCATGCTGCATGCTGC GATTACAGATTACAGATTACAGATTACAGATTACAGATTACAGATTACAGA\n",
      "GCATGCTGCATGCTGCATGCTGCATGCTGCATGCTGCATGCTGCATGCTGCA GATTACAGATTACAGATTACAGATTACAGATTACAGATTACAGATTACAGAT\n",
      "GCATGCTGCATGCTGCATGCTGCATGCTGCATGCTGCATGCTGCATGCTGCAT GATTACAGATTACAGATTACAGATTACAGATTACAGATTACAGATTACAGATT\n",
      "GCATGCTGCATGCTGCATGCTGCATGCTGCATGCTGCATGCTGCATGCTGCATG GATTACAGATTACAGATTACAGATTACAGATTACAGATTACAGATTACAGATTA\n",
      "GCATGCTGCATGCTGCATGCTGCATGCTGCATGCTGCATGCTGCATGCTGCATGC GATTACAGATTACAGATTACAGATTACAGATTACAGATTACAGATTACAGATTAC\n",
      "GCATGCTGCATGCTGCATGCTGCATGCTGCATGCTGCATGCTGCATGCTGCATGCT GATTACAGATTACAGATTACAGATTACAGATTACAGATTACAGATTACAGATTACA\n",
      "GCATGCTGCATGCTGCATGCTGCATGCTGCATGCTGCATGCTGCATGCTGCATGCTG GATTACAGATTACAGATTACAGATTACAGATTACAGATTACAGATTACAGATTACAG\n",
      "GCATGCTGCATGCTGCATGCTGCATGCTGCATGCTGCATGCTGCATGCTGCATGCTGC GATTACAGATTACAGATTACAGATTACAGATTACAGATTACAGATTACAGATTACAGA\n",
      "GCATGCTGCATGCTGCATGCTGCATGCTGCATGCTGCATGCTGCATGCTGCATGCTGCA GATTACAGATTACAGATTACAGATTACAGATTACAGATTACAGATTACAGATTACAGAT\n",
      "GCATGCTGCATGCTGCATGCTGCATGCTGCATGCTGCATGCTGCATGCTGCATGCTGCAT GATTACAGATTACAGATTACAGATTACAGATTACAGATTACAGATTACAGATTACAGATT\n",
      "GCATGCTGCATGCTGCATGCTGCATGCTGCATGCTGCATGCTGCATGCTGCATGCTGCATG GATTACAGATTACAGATTACAGATTACAGATTACAGATTACAGATTACAGATTACAGATTA\n",
      "GCATGCTGCATGCTGCATGCTGCATGCTGCATGCTGCATGCTGCATGCTGCATGCTGCATGC GATTACAGATTACAGATTACAGATTACAGATTACAGATTACAGATTACAGATTACAGATTAC\n",
      "GCATGCTGCATGCTGCATGCTGCATGCTGCATGCTGCATGCTGCATGCTGCATGCTGCATGCT GATTACAGATTACAGATTACAGATTACAGATTACAGATTACAGATTACAGATTACAGATTACA\n",
      "GCATGCTGCATGCTGCATGCTGCATGCTGCATGCTGCATGCTGCATGCTGCATGCTGCATGCTG GATTACAGATTACAGATTACAGATTACAGATTACAGATTACAGATTACAGATTACAGATTACAG\n",
      "GCATGCTGCATGCTGCATGCTGCATGCTGCATGCTGCATGCTGCATGCTGCATGCTGCATGCTGC GATTACAGATTACAGATTACAGATTACAGATTACAGATTACAGATTACAGATTACAGATTACAGA\n",
      "GCATGCTGCATGCTGCATGCTGCATGCTGCATGCTGCATGCTGCATGCTGCATGCTGCATGCTGCA GATTACAGATTACAGATTACAGATTACAGATTACAGATTACAGATTACAGATTACAGATTACAGAT\n",
      "GCATGCTGCATGCTGCATGCTGCATGCTGCATGCTGCATGCTGCATGCTGCATGCTGCATGCTGCAT GATTACAGATTACAGATTACAGATTACAGATTACAGATTACAGATTACAGATTACAGATTACAGATT\n",
      "GCATGCTGCATGCTGCATGCTGCATGCTGCATGCTGCATGCTGCATGCTGCATGCTGCATGCTGCATG GATTACAGATTACAGATTACAGATTACAGATTACAGATTACAGATTACAGATTACAGATTACAGATTA\n",
      "GCATGCTGCATGCTGCATGCTGCATGCTGCATGCTGCATGCTGCATGCTGCATGCTGCATGCTGCATGC GATTACAGATTACAGATTACAGATTACAGATTACAGATTACAGATTACAGATTACAGATTACAGATTAC\n",
      "GCATGCTGCATGCTGCATGCTGCATGCTGCATGCTGCATGCTGCATGCTGCATGCTGCATGCTGCATGCT GATTACAGATTACAGATTACAGATTACAGATTACAGATTACAGATTACAGATTACAGATTACAGATTACA\n",
      "GCATGCTGCATGCTGCATGCTGCATGCTGCATGCTGCATGCTGCATGCTGCATGCTGCATGCTGCATGCTG GATTACAGATTACAGATTACAGATTACAGATTACAGATTACAGATTACAGATTACAGATTACAGATTACAG\n",
      "GCATGCTGCATGCTGCATGCTGCATGCTGCATGCTGCATGCTGCATGCTGCATGCTGCATGCTGCATGCTGC GATTACAGATTACAGATTACAGATTACAGATTACAGATTACAGATTACAGATTACAGATTACAGATTACAGA\n",
      "GCATGCTGCATGCTGCATGCTGCATGCTGCATGCTGCATGCTGCATGCTGCATGCTGCATGCTGCATGCTGCA GATTACAGATTACAGATTACAGATTACAGATTACAGATTACAGATTACAGATTACAGATTACAGATTACAGAT\n",
      "GCATGCTGCATGCTGCATGCTGCATGCTGCATGCTGCATGCTGCATGCTGCATGCTGCATGCTGCATGCTGCAT GATTACAGATTACAGATTACAGATTACAGATTACAGATTACAGATTACAGATTACAGATTACAGATTACAGATT\n",
      "GCATGCTGCATGCTGCATGCTGCATGCTGCATGCTGCATGCTGCATGCTGCATGCTGCATGCTGCATGCTGCATG GATTACAGATTACAGATTACAGATTACAGATTACAGATTACAGATTACAGATTACAGATTACAGATTACAGATTA\n",
      "GCATGCTGCATGCTGCATGCTGCATGCTGCATGCTGCATGCTGCATGCTGCATGCTGCATGCTGCATGCTGCATGC GATTACAGATTACAGATTACAGATTACAGATTACAGATTACAGATTACAGATTACAGATTACAGATTACAGATTAC\n",
      "GCATGCTGCATGCTGCATGCTGCATGCTGCATGCTGCATGCTGCATGCTGCATGCTGCATGCTGCATGCTGCATGCT GATTACAGATTACAGATTACAGATTACAGATTACAGATTACAGATTACAGATTACAGATTACAGATTACAGATTACA\n",
      "GCATGCTGCATGCTGCATGCTGCATGCTGCATGCTGCATGCTGCATGCTGCATGCTGCATGCTGCATGCTGCATGCTG GATTACAGATTACAGATTACAGATTACAGATTACAGATTACAGATTACAGATTACAGATTACAGATTACAGATTACAG\n",
      "GCATGCTGCATGCTGCATGCTGCATGCTGCATGCTGCATGCTGCATGCTGCATGCTGCATGCTGCATGCTGCATGCTGC GATTACAGATTACAGATTACAGATTACAGATTACAGATTACAGATTACAGATTACAGATTACAGATTACAGATTACAGA\n",
      "GCATGCTGCATGCTGCATGCTGCATGCTGCATGCTGCATGCTGCATGCTGCATGCTGCATGCTGCATGCTGCATGCTGCA GATTACAGATTACAGATTACAGATTACAGATTACAGATTACAGATTACAGATTACAGATTACAGATTACAGATTACAGAT\n",
      "GCATGCTGCATGCTGCATGCTGCATGCTGCATGCTGCATGCTGCATGCTGCATGCTGCATGCTGCATGCTGCATGCTGCAT GATTACAGATTACAGATTACAGATTACAGATTACAGATTACAGATTACAGATTACAGATTACAGATTACAGATTACAGATT\n",
      "GCATGCTGCATGCTGCATGCTGCATGCTGCATGCTGCATGCTGCATGCTGCATGCTGCATGCTGCATGCTGCATGCTGCATG GATTACAGATTACAGATTACAGATTACAGATTACAGATTACAGATTACAGATTACAGATTACAGATTACAGATTACAGATTA\n",
      "GCATGCTGCATGCTGCATGCTGCATGCTGCATGCTGCATGCTGCATGCTGCATGCTGCATGCTGCATGCTGCATGCTGCATGC GATTACAGATTACAGATTACAGATTACAGATTACAGATTACAGATTACAGATTACAGATTACAGATTACAGATTACAGATTAC\n",
      "GCATGCTGCATGCTGCATGCTGCATGCTGCATGCTGCATGCTGCATGCTGCATGCTGCATGCTGCATGCTGCATGCTGCATGCT GATTACAGATTACAGATTACAGATTACAGATTACAGATTACAGATTACAGATTACAGATTACAGATTACAGATTACAGATTACA\n",
      "GCATGCTGCATGCTGCATGCTGCATGCTGCATGCTGCATGCTGCATGCTGCATGCTGCATGCTGCATGCTGCATGCTGCATGCTG GATTACAGATTACAGATTACAGATTACAGATTACAGATTACAGATTACAGATTACAGATTACAGATTACAGATTACAGATTACAG\n",
      "GCATGCTGCATGCTGCATGCTGCATGCTGCATGCTGCATGCTGCATGCTGCATGCTGCATGCTGCATGCTGCATGCTGCATGCTGC GATTACAGATTACAGATTACAGATTACAGATTACAGATTACAGATTACAGATTACAGATTACAGATTACAGATTACAGATTACAGA\n",
      "GCATGCTGCATGCTGCATGCTGCATGCTGCATGCTGCATGCTGCATGCTGCATGCTGCATGCTGCATGCTGCATGCTGCATGCTGCA GATTACAGATTACAGATTACAGATTACAGATTACAGATTACAGATTACAGATTACAGATTACAGATTACAGATTACAGATTACAGAT\n",
      "GCATGCTGCATGCTGCATGCTGCATGCTGCATGCTGCATGCTGCATGCTGCATGCTGCATGCTGCATGCTGCATGCTGCATGCTGCAT GATTACAGATTACAGATTACAGATTACAGATTACAGATTACAGATTACAGATTACAGATTACAGATTACAGATTACAGATTACAGATT\n",
      "GCATGCTGCATGCTGCATGCTGCATGCTGCATGCTGCATGCTGCATGCTGCATGCTGCATGCTGCATGCTGCATGCTGCATGCTGCATG GATTACAGATTACAGATTACAGATTACAGATTACAGATTACAGATTACAGATTACAGATTACAGATTACAGATTACAGATTACAGATTA\n",
      "GCATGCTGCATGCTGCATGCTGCATGCTGCATGCTGCATGCTGCATGCTGCATGCTGCATGCTGCATGCTGCATGCTGCATGCTGCATGC GATTACAGATTACAGATTACAGATTACAGATTACAGATTACAGATTACAGATTACAGATTACAGATTACAGATTACAGATTACAGATTAC\n",
      "GCATGCTGCATGCTGCATGCTGCATGCTGCATGCTGCATGCTGCATGCTGCATGCTGCATGCTGCATGCTGCATGCTGCATGCTGCATGCT GATTACAGATTACAGATTACAGATTACAGATTACAGATTACAGATTACAGATTACAGATTACAGATTACAGATTACAGATTACAGATTACA\n",
      "GCATGCTGCATGCTGCATGCTGCATGCTGCATGCTGCATGCTGCATGCTGCATGCTGCATGCTGCATGCTGCATGCTGCATGCTGCATGCTG GATTACAGATTACAGATTACAGATTACAGATTACAGATTACAGATTACAGATTACAGATTACAGATTACAGATTACAGATTACAGATTACAG\n",
      "GCATGCTGCATGCTGCATGCTGCATGCTGCATGCTGCATGCTGCATGCTGCATGCTGCATGCTGCATGCTGCATGCTGCATGCTGCATGCTGC GATTACAGATTACAGATTACAGATTACAGATTACAGATTACAGATTACAGATTACAGATTACAGATTACAGATTACAGATTACAGATTACAGA\n",
      "GCATGCTGCATGCTGCATGCTGCATGCTGCATGCTGCATGCTGCATGCTGCATGCTGCATGCTGCATGCTGCATGCTGCATGCTGCATGCTGCA GATTACAGATTACAGATTACAGATTACAGATTACAGATTACAGATTACAGATTACAGATTACAGATTACAGATTACAGATTACAGATTACAGAT\n",
      "GCATGCTGCATGCTGCATGCTGCATGCTGCATGCTGCATGCTGCATGCTGCATGCTGCATGCTGCATGCTGCATGCTGCATGCTGCATGCTGCAT GATTACAGATTACAGATTACAGATTACAGATTACAGATTACAGATTACAGATTACAGATTACAGATTACAGATTACAGATTACAGATTACAGATT\n",
      "GCATGCTGCATGCTGCATGCTGCATGCTGCATGCTGCATGCTGCATGCTGCATGCTGCATGCTGCATGCTGCATGCTGCATGCTGCATGCTGCATG GATTACAGATTACAGATTACAGATTACAGATTACAGATTACAGATTACAGATTACAGATTACAGATTACAGATTACAGATTACAGATTACAGATTA\n",
      "GCATGCTGCATGCTGCATGCTGCATGCTGCATGCTGCATGCTGCATGCTGCATGCTGCATGCTGCATGCTGCATGCTGCATGCTGCATGCTGCATGC GATTACAGATTACAGATTACAGATTACAGATTACAGATTACAGATTACAGATTACAGATTACAGATTACAGATTACAGATTACAGATTACAGATTAC\n"
     ]
    },
    {
     "name": "stdout",
     "output_type": "stream",
     "text": [
      "GCATGCTGCATGCTGCATGCTGCATGCTGCATGCTGCATGCTGCATGCTGCATGCTGCATGCTGCATGCTGCATGCTGCATGCTGCATGCTGCATGCT GATTACAGATTACAGATTACAGATTACAGATTACAGATTACAGATTACAGATTACAGATTACAGATTACAGATTACAGATTACAGATTACAGATTACA\n",
      "GCATGCTGCATGCTGCATGCTGCATGCTGCATGCTGCATGCTGCATGCTGCATGCTGCATGCTGCATGCTGCATGCTGCATGCTGCATGCTGCATGCTG GATTACAGATTACAGATTACAGATTACAGATTACAGATTACAGATTACAGATTACAGATTACAGATTACAGATTACAGATTACAGATTACAGATTACAG\n"
     ]
    }
   ],
   "source": [
    "time2 = []\n",
    "call_count2 = []\n",
    "import gc\n",
    "for seq1, seq2 in [prepare_plot(i) for i in range(100)]:\n",
    "    print(seq1, seq2)\n",
    "    gc.collect()\n",
    "    start = time.time()\n",
    "    call_counter = 0\n",
    "    align_fast(seq1, seq2)\n",
    "    stop = time.time()\n",
    "    time2.append(stop - start)\n",
    "    call_count2.append(call_counter)"
   ]
  },
  {
   "cell_type": "code",
   "execution_count": 73,
   "metadata": {},
   "outputs": [
    {
     "data": {
      "text/plain": [
       "Text(0,0.5,'seconds')"
      ]
     },
     "execution_count": 73,
     "metadata": {},
     "output_type": "execute_result"
    },
    {
     "data": {
      "image/png": "[encoded data removed]",
      "text/plain": [
       "<Figure size 720x720 with 1 Axes>"
      ]
     },
     "metadata": {},
     "output_type": "display_data"
    }
   ],
   "source": [
    "plt.plot(time2)\n",
    "plt.xlabel(\"length of sequence (bs)\")\n",
    "plt.ylabel(\"seconds\")"
   ]
  },
  {
   "cell_type": "code",
   "execution_count": 59,
   "metadata": {},
   "outputs": [
    {
     "name": "stdout",
     "output_type": "stream",
     "text": [
      "[1, 4, 9, 16, 25, 36, 49, 64, 81, 100, 121, 144, 169, 196, 225, 256, 289, 324, 361, 400, 441, 484, 529, 576, 625, 676, 729, 784, 841, 900, 961, 1024, 1089, 1156, 1225, 1296, 1369, 1444, 1521, 1600, 1681, 1764, 1849, 1936, 2025, 2116, 2209, 2304, 2401, 2500, 2601, 2704, 2809, 2916, 3025, 3136, 3249, 3364, 3481, 3600, 3721, 3844, 3969, 4096, 4225, 4356, 4489, 4624, 4761, 4900, 5041, 5184, 5329, 5476, 5625, 5776, 5929, 6084, 6241, 6400, 6561, 6724, 6889, 7056, 7225, 7396, 7569, 7744, 7921, 8100, 8281, 8464, 8649, 8836, 9025, 9216, 9409, 9604, 9801, 10000]\n"
     ]
    }
   ],
   "source": [
    "print(call_count2)"
   ]
  },
  {
   "cell_type": "code",
   "execution_count": 60,
   "metadata": {},
   "outputs": [
    {
     "data": {
      "text/plain": [
       "1000.0"
      ]
     },
     "execution_count": 60,
     "metadata": {},
     "output_type": "execute_result"
    }
   ],
   "source": [
    "import math\n",
    "math.sqrt(10**6)"
   ]
  },
  {
   "cell_type": "code",
   "execution_count": null,
   "metadata": {
    "collapsed": true
   },
   "outputs": [],
   "source": []
  }
 ],
 "metadata": {
  "kernelspec": {
   "display_name": "Python 3 Clinical Applicatoins",
   "language": "python",
   "name": "clinical_applications"
  },
  "language_info": {
   "codemirror_mode": {
    "name": "ipython",
    "version": 3
   },
   "file_extension": ".py",
   "mimetype": "text/x-python",
   "name": "python",
   "nbconvert_exporter": "python",
   "pygments_lexer": "ipython3",
   "version": "3.5.2"
  }
 },
 "nbformat": 4,
 "nbformat_minor": 2
}
