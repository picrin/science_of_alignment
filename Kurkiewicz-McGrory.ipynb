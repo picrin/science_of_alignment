{
 "cells": [
  {
   "cell_type": "code",
   "execution_count": 1,
   "metadata": {
    "collapsed": true
   },
   "outputs": [],
   "source": [
    "import matplotlib.pyplot as plt\n",
    "plt.rcParams['figure.figsize'] = [10, 10]"
   ]
  },
  {
   "cell_type": "code",
   "execution_count": 3,
   "metadata": {
    "collapsed": true
   },
   "outputs": [],
   "source": [
    "deletion_score = -1\n",
    "gap_score = -1\n",
    "mismatch_score = -1\n",
    "match_score = +1"
   ]
  },
  {
   "cell_type": "code",
   "execution_count": 43,
   "metadata": {},
   "outputs": [],
   "source": [
    "def align(template, sequence, cache = None):\n",
    "    if cache is None:\n",
    "        cache = dict()\n",
    "    \n",
    "    if (template, sequence) in cache:\n",
    "        return cache[(template, sequence)]\n",
    "\n",
    "    #print(\"E:\" + template, \"Q:\" + sequence)\n",
    "    \n",
    "    if not template:\n",
    "        return len(sequence) * deletion_score, \"\"\n",
    "    \n",
    "    if not sequence:\n",
    "        return len(template) * gap_score, template\n",
    "    \n",
    "    template_head, template_tail = template[0], template[1:]\n",
    "    sequence_head, sequence_tail = sequence[0], sequence[1:]\n",
    "    \n",
    "    if template_head == sequence_head:\n",
    "        match_mismatch_score = match_score\n",
    "    else:\n",
    "        match_mismatch_score = mismatch_score\n",
    "    \n",
    "    s, seq = align(template_tail, sequence_tail, cache)\n",
    "    match_result = s + match_mismatch_score, template_head + seq\n",
    "    cache[(template_tail, sequence_tail)] = match_result\n",
    "    \n",
    "    s, seq = align(template, sequence_tail, cache)\n",
    "    delete_result = s + deletion_score, seq\n",
    "    cache[(template, sequence_tail)] = delete_result\n",
    "    \n",
    "    s, seq = align(template_tail, sequence, cache)\n",
    "    gap_result = s + gap_score, template_head + seq\n",
    "    cache[(template, sequence)] = gap_result\n",
    "    \n",
    "    results = [match_result, delete_result, gap_result]\n",
    "    \n",
    "    results.sort()\n",
    "    \n",
    "    return results[-1]"
   ]
  },
  {
   "cell_type": "code",
   "execution_count": 44,
   "metadata": {},
   "outputs": [
    {
     "data": {
      "text/plain": [
       "(-20, 'TCATCATCATCATCA')"
      ]
     },
     "execution_count": 44,
     "metadata": {},
     "output_type": "execute_result"
    }
   ],
   "source": [
    "align(\"TCATCATCATCATCA\", \"CTCTCTCTCTCTCTCTCTCTCTCTCTCTCT\")"
   ]
  },
  {
   "cell_type": "code",
   "execution_count": 47,
   "metadata": {},
   "outputs": [],
   "source": [
    "def produce_sequence_and_align(sequence, template, outer_index, inner_index, pattern, cache = None):\n",
    "    if cache is None:\n",
    "        cache = dict()\n",
    "    for i in\n",
    "    too_far = len(pattern[outer_index]) == inner_index + 1\n",
    "    if len(template) < len(sequence):\n",
    "        \n",
    "        if  and len(pattern) outer_index\n",
    "         \n",
    "    print(\"sorry\")"
   ]
  },
  {
   "cell_type": "code",
   "execution_count": 50,
   "metadata": {},
   "outputs": [
    {
     "name": "stdout",
     "output_type": "stream",
     "text": [
      "CTGCTGCTGCTGCTGCTGCTGCTGCTGCTGCTGCTGCTGCTGCTGCCGCTGCCGCTGCCGCTGCCGCTGCCGCTG\n"
     ]
    }
   ],
   "source": [
    "produce_sequence_and_align(\"CTTGCTGCCGCTGCCGCTCGCTGCTGCTTG\", [15, 5, 0], 1, 0, [\"CTG\", \"CCGCTG\", \"CTG\"])"
   ]
  },
  {
   "cell_type": "code",
   "execution_count": null,
   "metadata": {
    "collapsed": true
   },
   "outputs": [],
   "source": [
    "align(\"CTTGCTGCCGCTGCCGCTCGCTGCTGCTTG\", [\"CTG\", \"CCGCTG\", \"CTG\"])"
   ]
  }
 ],
 "metadata": {
  "kernelspec": {
   "display_name": "Python 3 Clinical Applicatoins",
   "language": "python",
   "name": "clinical_applications"
  },
  "language_info": {
   "codemirror_mode": {
    "name": "ipython",
    "version": 3
   },
   "file_extension": ".py",
   "mimetype": "text/x-python",
   "name": "python",
   "nbconvert_exporter": "python",
   "pygments_lexer": "ipython3",
   "version": "3.5.2"
  }
 },
 "nbformat": 4,
 "nbformat_minor": 2
}
